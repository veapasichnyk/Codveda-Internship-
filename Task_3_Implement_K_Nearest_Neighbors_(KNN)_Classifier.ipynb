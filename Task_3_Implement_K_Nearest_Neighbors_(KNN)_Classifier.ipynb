{
  "nbformat": 4,
  "nbformat_minor": 0,
  "metadata": {
    "colab": {
      "provenance": [],
      "authorship_tag": "ABX9TyPsZT7NbZMOPoVEI0mSQPE+",
      "include_colab_link": true
    },
    "kernelspec": {
      "name": "python3",
      "display_name": "Python 3"
    },
    "language_info": {
      "name": "python"
    }
  },
  "cells": [
    {
      "cell_type": "markdown",
      "metadata": {
        "id": "view-in-github",
        "colab_type": "text"
      },
      "source": [
        "<a href=\"https://colab.research.google.com/github/veapasichnyk/Codveda-Internship-/blob/main/Task_3_Implement_K_Nearest_Neighbors_(KNN)_Classifier.ipynb\" target=\"_parent\"><img src=\"https://colab.research.google.com/assets/colab-badge.svg\" alt=\"Open In Colab\"/></a>"
      ]
    },
    {
      "cell_type": "markdown",
      "source": [
        "###Task 3: Implement K-Nearest Neighbors (KNN) Classifier"
      ],
      "metadata": {
        "id": "vZWMuMK-VntB"
      }
    },
    {
      "cell_type": "markdown",
      "source": [
        "##Imports"
      ],
      "metadata": {
        "id": "jqpjd3E1Vuw7"
      }
    },
    {
      "cell_type": "code",
      "execution_count": 20,
      "metadata": {
        "id": "B03AcWh4VfsZ"
      },
      "outputs": [],
      "source": [
        "import pandas as pd\n",
        "import numpy as np\n",
        "import matplotlib.pyplot as plt\n",
        "from sklearn.model_selection import train_test_split\n",
        "from sklearn.feature_extraction.text import TfidfVectorizer\n",
        "from sklearn.preprocessing import LabelEncoder\n",
        "from sklearn.neighbors import KNeighborsClassifier\n",
        "from sklearn.metrics import accuracy_score, classification_report, confusion_matrix"
      ]
    },
    {
      "cell_type": "markdown",
      "source": [
        "##Load data"
      ],
      "metadata": {
        "id": "e9HPPmtXYBvY"
      }
    },
    {
      "cell_type": "code",
      "source": [
        "df = pd.read_csv(\"Sentiment dataset.csv\")"
      ],
      "metadata": {
        "id": "oXh9sEu-VsY3"
      },
      "execution_count": 3,
      "outputs": []
    },
    {
      "cell_type": "code",
      "source": [
        "df.head()"
      ],
      "metadata": {
        "colab": {
          "base_uri": "https://localhost:8080/",
          "height": 501
        },
        "id": "tOYBCdrOWWaY",
        "outputId": "cfd01353-8e23-4cb4-a59a-c4fbbd966b41"
      },
      "execution_count": 4,
      "outputs": [
        {
          "output_type": "execute_result",
          "data": {
            "text/plain": [
              "   Unnamed: 0.1  Unnamed: 0  \\\n",
              "0             0           0   \n",
              "1             1           1   \n",
              "2             2           2   \n",
              "3             3           3   \n",
              "4             4           4   \n",
              "\n",
              "                                                Text    Sentiment  \\\n",
              "0   Enjoying a beautiful day at the park!        ...   Positive     \n",
              "1   Traffic was terrible this morning.           ...   Negative     \n",
              "2   Just finished an amazing workout! 💪          ...   Positive     \n",
              "3   Excited about the upcoming weekend getaway!  ...   Positive     \n",
              "4   Trying out a new recipe for dinner tonight.  ...   Neutral      \n",
              "\n",
              "             Timestamp            User     Platform  \\\n",
              "0  2023-01-15 12:30:00   User123          Twitter     \n",
              "1  2023-01-15 08:45:00   CommuterX        Twitter     \n",
              "2  2023-01-15 15:45:00   FitnessFan      Instagram    \n",
              "3  2023-01-15 18:20:00   AdventureX       Facebook    \n",
              "4  2023-01-15 19:55:00   ChefCook        Instagram    \n",
              "\n",
              "                                     Hashtags  Retweets  Likes       Country  \\\n",
              "0   #Nature #Park                                  15.0   30.0     USA         \n",
              "1   #Traffic #Morning                               5.0   10.0     Canada      \n",
              "2   #Fitness #Workout                              20.0   40.0   USA           \n",
              "3   #Travel #Adventure                              8.0   15.0     UK          \n",
              "4   #Cooking #Food                                 12.0   25.0    Australia    \n",
              "\n",
              "   Year  Month  Day  Hour  \n",
              "0  2023      1   15    12  \n",
              "1  2023      1   15     8  \n",
              "2  2023      1   15    15  \n",
              "3  2023      1   15    18  \n",
              "4  2023      1   15    19  "
            ],
            "text/html": [
              "\n",
              "  <div id=\"df-ad9f2654-9b1e-4842-851f-63d9ba7ad8e5\" class=\"colab-df-container\">\n",
              "    <div>\n",
              "<style scoped>\n",
              "    .dataframe tbody tr th:only-of-type {\n",
              "        vertical-align: middle;\n",
              "    }\n",
              "\n",
              "    .dataframe tbody tr th {\n",
              "        vertical-align: top;\n",
              "    }\n",
              "\n",
              "    .dataframe thead th {\n",
              "        text-align: right;\n",
              "    }\n",
              "</style>\n",
              "<table border=\"1\" class=\"dataframe\">\n",
              "  <thead>\n",
              "    <tr style=\"text-align: right;\">\n",
              "      <th></th>\n",
              "      <th>Unnamed: 0.1</th>\n",
              "      <th>Unnamed: 0</th>\n",
              "      <th>Text</th>\n",
              "      <th>Sentiment</th>\n",
              "      <th>Timestamp</th>\n",
              "      <th>User</th>\n",
              "      <th>Platform</th>\n",
              "      <th>Hashtags</th>\n",
              "      <th>Retweets</th>\n",
              "      <th>Likes</th>\n",
              "      <th>Country</th>\n",
              "      <th>Year</th>\n",
              "      <th>Month</th>\n",
              "      <th>Day</th>\n",
              "      <th>Hour</th>\n",
              "    </tr>\n",
              "  </thead>\n",
              "  <tbody>\n",
              "    <tr>\n",
              "      <th>0</th>\n",
              "      <td>0</td>\n",
              "      <td>0</td>\n",
              "      <td>Enjoying a beautiful day at the park!        ...</td>\n",
              "      <td>Positive</td>\n",
              "      <td>2023-01-15 12:30:00</td>\n",
              "      <td>User123</td>\n",
              "      <td>Twitter</td>\n",
              "      <td>#Nature #Park</td>\n",
              "      <td>15.0</td>\n",
              "      <td>30.0</td>\n",
              "      <td>USA</td>\n",
              "      <td>2023</td>\n",
              "      <td>1</td>\n",
              "      <td>15</td>\n",
              "      <td>12</td>\n",
              "    </tr>\n",
              "    <tr>\n",
              "      <th>1</th>\n",
              "      <td>1</td>\n",
              "      <td>1</td>\n",
              "      <td>Traffic was terrible this morning.           ...</td>\n",
              "      <td>Negative</td>\n",
              "      <td>2023-01-15 08:45:00</td>\n",
              "      <td>CommuterX</td>\n",
              "      <td>Twitter</td>\n",
              "      <td>#Traffic #Morning</td>\n",
              "      <td>5.0</td>\n",
              "      <td>10.0</td>\n",
              "      <td>Canada</td>\n",
              "      <td>2023</td>\n",
              "      <td>1</td>\n",
              "      <td>15</td>\n",
              "      <td>8</td>\n",
              "    </tr>\n",
              "    <tr>\n",
              "      <th>2</th>\n",
              "      <td>2</td>\n",
              "      <td>2</td>\n",
              "      <td>Just finished an amazing workout! 💪          ...</td>\n",
              "      <td>Positive</td>\n",
              "      <td>2023-01-15 15:45:00</td>\n",
              "      <td>FitnessFan</td>\n",
              "      <td>Instagram</td>\n",
              "      <td>#Fitness #Workout</td>\n",
              "      <td>20.0</td>\n",
              "      <td>40.0</td>\n",
              "      <td>USA</td>\n",
              "      <td>2023</td>\n",
              "      <td>1</td>\n",
              "      <td>15</td>\n",
              "      <td>15</td>\n",
              "    </tr>\n",
              "    <tr>\n",
              "      <th>3</th>\n",
              "      <td>3</td>\n",
              "      <td>3</td>\n",
              "      <td>Excited about the upcoming weekend getaway!  ...</td>\n",
              "      <td>Positive</td>\n",
              "      <td>2023-01-15 18:20:00</td>\n",
              "      <td>AdventureX</td>\n",
              "      <td>Facebook</td>\n",
              "      <td>#Travel #Adventure</td>\n",
              "      <td>8.0</td>\n",
              "      <td>15.0</td>\n",
              "      <td>UK</td>\n",
              "      <td>2023</td>\n",
              "      <td>1</td>\n",
              "      <td>15</td>\n",
              "      <td>18</td>\n",
              "    </tr>\n",
              "    <tr>\n",
              "      <th>4</th>\n",
              "      <td>4</td>\n",
              "      <td>4</td>\n",
              "      <td>Trying out a new recipe for dinner tonight.  ...</td>\n",
              "      <td>Neutral</td>\n",
              "      <td>2023-01-15 19:55:00</td>\n",
              "      <td>ChefCook</td>\n",
              "      <td>Instagram</td>\n",
              "      <td>#Cooking #Food</td>\n",
              "      <td>12.0</td>\n",
              "      <td>25.0</td>\n",
              "      <td>Australia</td>\n",
              "      <td>2023</td>\n",
              "      <td>1</td>\n",
              "      <td>15</td>\n",
              "      <td>19</td>\n",
              "    </tr>\n",
              "  </tbody>\n",
              "</table>\n",
              "</div>\n",
              "    <div class=\"colab-df-buttons\">\n",
              "\n",
              "  <div class=\"colab-df-container\">\n",
              "    <button class=\"colab-df-convert\" onclick=\"convertToInteractive('df-ad9f2654-9b1e-4842-851f-63d9ba7ad8e5')\"\n",
              "            title=\"Convert this dataframe to an interactive table.\"\n",
              "            style=\"display:none;\">\n",
              "\n",
              "  <svg xmlns=\"http://www.w3.org/2000/svg\" height=\"24px\" viewBox=\"0 -960 960 960\">\n",
              "    <path d=\"M120-120v-720h720v720H120Zm60-500h600v-160H180v160Zm220 220h160v-160H400v160Zm0 220h160v-160H400v160ZM180-400h160v-160H180v160Zm440 0h160v-160H620v160ZM180-180h160v-160H180v160Zm440 0h160v-160H620v160Z\"/>\n",
              "  </svg>\n",
              "    </button>\n",
              "\n",
              "  <style>\n",
              "    .colab-df-container {\n",
              "      display:flex;\n",
              "      gap: 12px;\n",
              "    }\n",
              "\n",
              "    .colab-df-convert {\n",
              "      background-color: #E8F0FE;\n",
              "      border: none;\n",
              "      border-radius: 50%;\n",
              "      cursor: pointer;\n",
              "      display: none;\n",
              "      fill: #1967D2;\n",
              "      height: 32px;\n",
              "      padding: 0 0 0 0;\n",
              "      width: 32px;\n",
              "    }\n",
              "\n",
              "    .colab-df-convert:hover {\n",
              "      background-color: #E2EBFA;\n",
              "      box-shadow: 0px 1px 2px rgba(60, 64, 67, 0.3), 0px 1px 3px 1px rgba(60, 64, 67, 0.15);\n",
              "      fill: #174EA6;\n",
              "    }\n",
              "\n",
              "    .colab-df-buttons div {\n",
              "      margin-bottom: 4px;\n",
              "    }\n",
              "\n",
              "    [theme=dark] .colab-df-convert {\n",
              "      background-color: #3B4455;\n",
              "      fill: #D2E3FC;\n",
              "    }\n",
              "\n",
              "    [theme=dark] .colab-df-convert:hover {\n",
              "      background-color: #434B5C;\n",
              "      box-shadow: 0px 1px 3px 1px rgba(0, 0, 0, 0.15);\n",
              "      filter: drop-shadow(0px 1px 2px rgba(0, 0, 0, 0.3));\n",
              "      fill: #FFFFFF;\n",
              "    }\n",
              "  </style>\n",
              "\n",
              "    <script>\n",
              "      const buttonEl =\n",
              "        document.querySelector('#df-ad9f2654-9b1e-4842-851f-63d9ba7ad8e5 button.colab-df-convert');\n",
              "      buttonEl.style.display =\n",
              "        google.colab.kernel.accessAllowed ? 'block' : 'none';\n",
              "\n",
              "      async function convertToInteractive(key) {\n",
              "        const element = document.querySelector('#df-ad9f2654-9b1e-4842-851f-63d9ba7ad8e5');\n",
              "        const dataTable =\n",
              "          await google.colab.kernel.invokeFunction('convertToInteractive',\n",
              "                                                    [key], {});\n",
              "        if (!dataTable) return;\n",
              "\n",
              "        const docLinkHtml = 'Like what you see? Visit the ' +\n",
              "          '<a target=\"_blank\" href=https://colab.research.google.com/notebooks/data_table.ipynb>data table notebook</a>'\n",
              "          + ' to learn more about interactive tables.';\n",
              "        element.innerHTML = '';\n",
              "        dataTable['output_type'] = 'display_data';\n",
              "        await google.colab.output.renderOutput(dataTable, element);\n",
              "        const docLink = document.createElement('div');\n",
              "        docLink.innerHTML = docLinkHtml;\n",
              "        element.appendChild(docLink);\n",
              "      }\n",
              "    </script>\n",
              "  </div>\n",
              "\n",
              "\n",
              "    <div id=\"df-e841e22d-ac51-4a48-945d-c142b4c0c40f\">\n",
              "      <button class=\"colab-df-quickchart\" onclick=\"quickchart('df-e841e22d-ac51-4a48-945d-c142b4c0c40f')\"\n",
              "                title=\"Suggest charts\"\n",
              "                style=\"display:none;\">\n",
              "\n",
              "<svg xmlns=\"http://www.w3.org/2000/svg\" height=\"24px\"viewBox=\"0 0 24 24\"\n",
              "     width=\"24px\">\n",
              "    <g>\n",
              "        <path d=\"M19 3H5c-1.1 0-2 .9-2 2v14c0 1.1.9 2 2 2h14c1.1 0 2-.9 2-2V5c0-1.1-.9-2-2-2zM9 17H7v-7h2v7zm4 0h-2V7h2v10zm4 0h-2v-4h2v4z\"/>\n",
              "    </g>\n",
              "</svg>\n",
              "      </button>\n",
              "\n",
              "<style>\n",
              "  .colab-df-quickchart {\n",
              "      --bg-color: #E8F0FE;\n",
              "      --fill-color: #1967D2;\n",
              "      --hover-bg-color: #E2EBFA;\n",
              "      --hover-fill-color: #174EA6;\n",
              "      --disabled-fill-color: #AAA;\n",
              "      --disabled-bg-color: #DDD;\n",
              "  }\n",
              "\n",
              "  [theme=dark] .colab-df-quickchart {\n",
              "      --bg-color: #3B4455;\n",
              "      --fill-color: #D2E3FC;\n",
              "      --hover-bg-color: #434B5C;\n",
              "      --hover-fill-color: #FFFFFF;\n",
              "      --disabled-bg-color: #3B4455;\n",
              "      --disabled-fill-color: #666;\n",
              "  }\n",
              "\n",
              "  .colab-df-quickchart {\n",
              "    background-color: var(--bg-color);\n",
              "    border: none;\n",
              "    border-radius: 50%;\n",
              "    cursor: pointer;\n",
              "    display: none;\n",
              "    fill: var(--fill-color);\n",
              "    height: 32px;\n",
              "    padding: 0;\n",
              "    width: 32px;\n",
              "  }\n",
              "\n",
              "  .colab-df-quickchart:hover {\n",
              "    background-color: var(--hover-bg-color);\n",
              "    box-shadow: 0 1px 2px rgba(60, 64, 67, 0.3), 0 1px 3px 1px rgba(60, 64, 67, 0.15);\n",
              "    fill: var(--button-hover-fill-color);\n",
              "  }\n",
              "\n",
              "  .colab-df-quickchart-complete:disabled,\n",
              "  .colab-df-quickchart-complete:disabled:hover {\n",
              "    background-color: var(--disabled-bg-color);\n",
              "    fill: var(--disabled-fill-color);\n",
              "    box-shadow: none;\n",
              "  }\n",
              "\n",
              "  .colab-df-spinner {\n",
              "    border: 2px solid var(--fill-color);\n",
              "    border-color: transparent;\n",
              "    border-bottom-color: var(--fill-color);\n",
              "    animation:\n",
              "      spin 1s steps(1) infinite;\n",
              "  }\n",
              "\n",
              "  @keyframes spin {\n",
              "    0% {\n",
              "      border-color: transparent;\n",
              "      border-bottom-color: var(--fill-color);\n",
              "      border-left-color: var(--fill-color);\n",
              "    }\n",
              "    20% {\n",
              "      border-color: transparent;\n",
              "      border-left-color: var(--fill-color);\n",
              "      border-top-color: var(--fill-color);\n",
              "    }\n",
              "    30% {\n",
              "      border-color: transparent;\n",
              "      border-left-color: var(--fill-color);\n",
              "      border-top-color: var(--fill-color);\n",
              "      border-right-color: var(--fill-color);\n",
              "    }\n",
              "    40% {\n",
              "      border-color: transparent;\n",
              "      border-right-color: var(--fill-color);\n",
              "      border-top-color: var(--fill-color);\n",
              "    }\n",
              "    60% {\n",
              "      border-color: transparent;\n",
              "      border-right-color: var(--fill-color);\n",
              "    }\n",
              "    80% {\n",
              "      border-color: transparent;\n",
              "      border-right-color: var(--fill-color);\n",
              "      border-bottom-color: var(--fill-color);\n",
              "    }\n",
              "    90% {\n",
              "      border-color: transparent;\n",
              "      border-bottom-color: var(--fill-color);\n",
              "    }\n",
              "  }\n",
              "</style>\n",
              "\n",
              "      <script>\n",
              "        async function quickchart(key) {\n",
              "          const quickchartButtonEl =\n",
              "            document.querySelector('#' + key + ' button');\n",
              "          quickchartButtonEl.disabled = true;  // To prevent multiple clicks.\n",
              "          quickchartButtonEl.classList.add('colab-df-spinner');\n",
              "          try {\n",
              "            const charts = await google.colab.kernel.invokeFunction(\n",
              "                'suggestCharts', [key], {});\n",
              "          } catch (error) {\n",
              "            console.error('Error during call to suggestCharts:', error);\n",
              "          }\n",
              "          quickchartButtonEl.classList.remove('colab-df-spinner');\n",
              "          quickchartButtonEl.classList.add('colab-df-quickchart-complete');\n",
              "        }\n",
              "        (() => {\n",
              "          let quickchartButtonEl =\n",
              "            document.querySelector('#df-e841e22d-ac51-4a48-945d-c142b4c0c40f button');\n",
              "          quickchartButtonEl.style.display =\n",
              "            google.colab.kernel.accessAllowed ? 'block' : 'none';\n",
              "        })();\n",
              "      </script>\n",
              "    </div>\n",
              "    </div>\n",
              "  </div>\n"
            ],
            "application/vnd.google.colaboratory.intrinsic+json": {
              "type": "dataframe",
              "variable_name": "df",
              "summary": "{\n  \"name\": \"df\",\n  \"rows\": 732,\n  \"fields\": [\n    {\n      \"column\": \"Unnamed: 0.1\",\n      \"properties\": {\n        \"dtype\": \"number\",\n        \"std\": 211,\n        \"min\": 0,\n        \"max\": 732,\n        \"num_unique_values\": 732,\n        \"samples\": [\n          605,\n          34,\n          301\n        ],\n        \"semantic_type\": \"\",\n        \"description\": \"\"\n      }\n    },\n    {\n      \"column\": \"Unnamed: 0\",\n      \"properties\": {\n        \"dtype\": \"number\",\n        \"std\": 212,\n        \"min\": 0,\n        \"max\": 736,\n        \"num_unique_values\": 732,\n        \"samples\": [\n          609,\n          35,\n          305\n        ],\n        \"semantic_type\": \"\",\n        \"description\": \"\"\n      }\n    },\n    {\n      \"column\": \"Text\",\n      \"properties\": {\n        \"dtype\": \"string\",\n        \"num_unique_values\": 707,\n        \"samples\": [\n          \"Walking the Great Wall of China, each step a testament to ancient engineering marvels. \",\n          \" Laughter is the key to joy\\u2014attending a stand-up comedy show. \",\n          \" The fear of the unknown is keeping me up at night.    \"\n        ],\n        \"semantic_type\": \"\",\n        \"description\": \"\"\n      }\n    },\n    {\n      \"column\": \"Sentiment\",\n      \"properties\": {\n        \"dtype\": \"category\",\n        \"num_unique_values\": 279,\n        \"samples\": [\n          \" Elation       \",\n          \" Confidence    \",\n          \" Loss \"\n        ],\n        \"semantic_type\": \"\",\n        \"description\": \"\"\n      }\n    },\n    {\n      \"column\": \"Timestamp\",\n      \"properties\": {\n        \"dtype\": \"object\",\n        \"num_unique_values\": 683,\n        \"samples\": [\n          \"2019-12-12 17:00:00\",\n          \"2018-03-10 09:45:00\",\n          \"2022-01-05 10:30:00\"\n        ],\n        \"semantic_type\": \"\",\n        \"description\": \"\"\n      }\n    },\n    {\n      \"column\": \"User\",\n      \"properties\": {\n        \"dtype\": \"string\",\n        \"num_unique_values\": 685,\n        \"samples\": [\n          \" VenomousHeart \",\n          \" GamingEnthusiast \",\n          \" DreamChaser       \"\n        ],\n        \"semantic_type\": \"\",\n        \"description\": \"\"\n      }\n    },\n    {\n      \"column\": \"Platform\",\n      \"properties\": {\n        \"dtype\": \"category\",\n        \"num_unique_values\": 4,\n        \"samples\": [\n          \" Instagram \",\n          \" Twitter \",\n          \" Twitter  \"\n        ],\n        \"semantic_type\": \"\",\n        \"description\": \"\"\n      }\n    },\n    {\n      \"column\": \"Hashtags\",\n      \"properties\": {\n        \"dtype\": \"string\",\n        \"num_unique_values\": 697,\n        \"samples\": [\n          \" #Fulfillment #PuzzleChallenge                \",\n          \" #Nostalgia #ClassicFilmMoments \",\n          \" #Isolation #EmotionalWinter            \"\n        ],\n        \"semantic_type\": \"\",\n        \"description\": \"\"\n      }\n    },\n    {\n      \"column\": \"Retweets\",\n      \"properties\": {\n        \"dtype\": \"number\",\n        \"std\": 7.061286414470437,\n        \"min\": 5.0,\n        \"max\": 40.0,\n        \"num_unique_values\": 26,\n        \"samples\": [\n          18.0,\n          17.0,\n          15.0\n        ],\n        \"semantic_type\": \"\",\n        \"description\": \"\"\n      }\n    },\n    {\n      \"column\": \"Likes\",\n      \"properties\": {\n        \"dtype\": \"number\",\n        \"std\": 14.089848390888744,\n        \"min\": 10.0,\n        \"max\": 80.0,\n        \"num_unique_values\": 38,\n        \"samples\": [\n          31.0,\n          51.0,\n          25.0\n        ],\n        \"semantic_type\": \"\",\n        \"description\": \"\"\n      }\n    },\n    {\n      \"column\": \"Country\",\n      \"properties\": {\n        \"dtype\": \"category\",\n        \"num_unique_values\": 115,\n        \"samples\": [\n          \" France         \",\n          \" Australia \",\n          \" India         \"\n        ],\n        \"semantic_type\": \"\",\n        \"description\": \"\"\n      }\n    },\n    {\n      \"column\": \"Year\",\n      \"properties\": {\n        \"dtype\": \"number\",\n        \"std\": 2,\n        \"min\": 2010,\n        \"max\": 2023,\n        \"num_unique_values\": 14,\n        \"samples\": [\n          2016,\n          2018,\n          2023\n        ],\n        \"semantic_type\": \"\",\n        \"description\": \"\"\n      }\n    },\n    {\n      \"column\": \"Month\",\n      \"properties\": {\n        \"dtype\": \"number\",\n        \"std\": 3,\n        \"min\": 1,\n        \"max\": 12,\n        \"num_unique_values\": 12,\n        \"samples\": [\n          10,\n          7,\n          1\n        ],\n        \"semantic_type\": \"\",\n        \"description\": \"\"\n      }\n    },\n    {\n      \"column\": \"Day\",\n      \"properties\": {\n        \"dtype\": \"number\",\n        \"std\": 8,\n        \"min\": 1,\n        \"max\": 31,\n        \"num_unique_values\": 31,\n        \"samples\": [\n          7,\n          30,\n          3\n        ],\n        \"semantic_type\": \"\",\n        \"description\": \"\"\n      }\n    },\n    {\n      \"column\": \"Hour\",\n      \"properties\": {\n        \"dtype\": \"number\",\n        \"std\": 4,\n        \"min\": 0,\n        \"max\": 23,\n        \"num_unique_values\": 22,\n        \"samples\": [\n          12,\n          20,\n          13\n        ],\n        \"semantic_type\": \"\",\n        \"description\": \"\"\n      }\n    }\n  ]\n}"
            }
          },
          "metadata": {},
          "execution_count": 4
        }
      ]
    },
    {
      "cell_type": "code",
      "source": [
        "print(df.shape)\n",
        "print(df.info())"
      ],
      "metadata": {
        "colab": {
          "base_uri": "https://localhost:8080/"
        },
        "id": "cI3Gx3flWcko",
        "outputId": "85ca01fa-8a0b-4a65-d27c-4baefbec402c"
      },
      "execution_count": 5,
      "outputs": [
        {
          "output_type": "stream",
          "name": "stdout",
          "text": [
            "(732, 15)\n",
            "<class 'pandas.core.frame.DataFrame'>\n",
            "RangeIndex: 732 entries, 0 to 731\n",
            "Data columns (total 15 columns):\n",
            " #   Column        Non-Null Count  Dtype  \n",
            "---  ------        --------------  -----  \n",
            " 0   Unnamed: 0.1  732 non-null    int64  \n",
            " 1   Unnamed: 0    732 non-null    int64  \n",
            " 2   Text          732 non-null    object \n",
            " 3   Sentiment     732 non-null    object \n",
            " 4   Timestamp     732 non-null    object \n",
            " 5   User          732 non-null    object \n",
            " 6   Platform      732 non-null    object \n",
            " 7   Hashtags      732 non-null    object \n",
            " 8   Retweets      732 non-null    float64\n",
            " 9   Likes         732 non-null    float64\n",
            " 10  Country       732 non-null    object \n",
            " 11  Year          732 non-null    int64  \n",
            " 12  Month         732 non-null    int64  \n",
            " 13  Day           732 non-null    int64  \n",
            " 14  Hour          732 non-null    int64  \n",
            "dtypes: float64(2), int64(6), object(7)\n",
            "memory usage: 85.9+ KB\n",
            "None\n"
          ]
        }
      ]
    },
    {
      "cell_type": "markdown",
      "source": [
        "Perfect! I can train a KNN model to classify Sentiment based on the post Text."
      ],
      "metadata": {
        "id": "CygZPeSkXzqF"
      }
    },
    {
      "cell_type": "markdown",
      "source": [
        "##Data preprocessing"
      ],
      "metadata": {
        "id": "tF9NBsTQYSW3"
      }
    },
    {
      "cell_type": "code",
      "source": [
        "# Keep only text + sentiment\n",
        "df = df[['Text', 'Sentiment']].dropna()"
      ],
      "metadata": {
        "id": "uM8Bok1KX4WU"
      },
      "execution_count": 6,
      "outputs": []
    },
    {
      "cell_type": "code",
      "source": [
        "# Filter to top 10 most common sentiment classes\n",
        "top_10 = df['Sentiment'].value_counts().nlargest(10).index\n",
        "df = df[df['Sentiment'].isin(top_10)].copy()"
      ],
      "metadata": {
        "id": "HS4wUpMDZSga"
      },
      "execution_count": 13,
      "outputs": []
    },
    {
      "cell_type": "code",
      "source": [
        "# Encode target\n",
        "le = LabelEncoder()\n",
        "y = le.fit_transform(df['Sentiment'])"
      ],
      "metadata": {
        "id": "6vwEQrxoYbRv"
      },
      "execution_count": 14,
      "outputs": []
    },
    {
      "cell_type": "code",
      "source": [
        "# Text vectorization (TF-IDF)\n",
        "vectorizer = TfidfVectorizer(stop_words='english', max_features=1000)\n",
        "X = vectorizer.fit_transform(df['Text'])"
      ],
      "metadata": {
        "id": "DFX-HmsQYkgH"
      },
      "execution_count": 15,
      "outputs": []
    },
    {
      "cell_type": "code",
      "source": [
        "print(df['Sentiment'].value_counts())"
      ],
      "metadata": {
        "colab": {
          "base_uri": "https://localhost:8080/"
        },
        "id": "hd0JpcD_Y5i5",
        "outputId": "ede420c5-9238-47af-d5be-b6378e1b5dd0"
      },
      "execution_count": 16,
      "outputs": [
        {
          "output_type": "stream",
          "name": "stdout",
          "text": [
            "Sentiment\n",
            "Positive        44\n",
            "Joy             42\n",
            "Excitement      32\n",
            "Contentment     14\n",
            "Neutral         14\n",
            "Happy           14\n",
            "Sad              9\n",
            "Hopeful          9\n",
            "Gratitude        9\n",
            "Curiosity        8\n",
            "Name: count, dtype: int64\n"
          ]
        }
      ]
    },
    {
      "cell_type": "code",
      "source": [
        "# Train/test split\n",
        "X_train, X_test, y_train, y_test = train_test_split(\n",
        "    X, y, test_size=0.2, random_state=42, stratify=y\n",
        ")"
      ],
      "metadata": {
        "id": "-AQ5VoM3YsoE"
      },
      "execution_count": 17,
      "outputs": []
    },
    {
      "cell_type": "markdown",
      "source": [
        "##KNeighborsClassifier"
      ],
      "metadata": {
        "id": "2lMDrEnWZkFM"
      }
    },
    {
      "cell_type": "code",
      "source": [
        "# Try different K values\n",
        "for k in [1, 3, 5, 7, 9]:\n",
        "    knn = KNeighborsClassifier(n_neighbors=k)\n",
        "    knn.fit(X_train, y_train)\n",
        "    y_pred = knn.predict(X_test)\n",
        "\n",
        "    acc = accuracy_score(y_test, y_pred)\n",
        "    cm = confusion_matrix(y_test, y_pred)\n",
        "    report = classification_report(y_test, y_pred, target_names=le.classes_, zero_division=0)\n",
        "\n",
        "    print(f\"\\n=== K = {k} ===\")\n",
        "    print(f\"Accuracy: {acc:.3f}\")\n",
        "    print(\"Confusion Matrix:\\n\", cm)\n",
        "    print(\"Classification Report:\\n\", report)"
      ],
      "metadata": {
        "colab": {
          "base_uri": "https://localhost:8080/"
        },
        "id": "HbCn5CVBZeaP",
        "outputId": "0be41da8-7133-4694-ecda-5d01717bca90"
      },
      "execution_count": 19,
      "outputs": [
        {
          "output_type": "stream",
          "name": "stdout",
          "text": [
            "\n",
            "=== K = 1 ===\n",
            "Accuracy: 0.564\n",
            "Confusion Matrix:\n",
            " [[0 0 0 0 0 1 1 0 1 0]\n",
            " [0 0 1 0 0 0 0 0 0 0]\n",
            " [0 0 3 0 0 0 1 0 2 0]\n",
            " [0 0 0 2 0 0 0 0 0 0]\n",
            " [0 0 1 0 1 0 0 0 1 0]\n",
            " [0 0 0 0 1 1 0 0 0 0]\n",
            " [0 0 1 0 0 0 4 1 2 0]\n",
            " [0 0 0 0 0 0 0 2 1 0]\n",
            " [0 0 0 0 0 0 0 1 8 0]\n",
            " [0 0 0 0 0 0 0 0 1 1]]\n",
            "Classification Report:\n",
            "                precision    recall  f1-score   support\n",
            "\n",
            " Contentment        0.00      0.00      0.00         3\n",
            "   Curiosity        0.00      0.00      0.00         1\n",
            "  Excitement        0.50      0.50      0.50         6\n",
            "   Gratitude        1.00      1.00      1.00         2\n",
            "       Happy        0.50      0.33      0.40         3\n",
            "     Hopeful        0.50      0.50      0.50         2\n",
            "         Joy        0.67      0.50      0.57         8\n",
            "     Neutral        0.50      0.67      0.57         3\n",
            "   Positive         0.50      0.89      0.64         9\n",
            "         Sad        1.00      0.50      0.67         2\n",
            "\n",
            "     accuracy                           0.56        39\n",
            "    macro avg       0.52      0.49      0.48        39\n",
            " weighted avg       0.53      0.56      0.53        39\n",
            "\n",
            "\n",
            "=== K = 3 ===\n",
            "Accuracy: 0.487\n",
            "Confusion Matrix:\n",
            " [[1 0 0 1 0 1 0 0 0 0]\n",
            " [1 0 0 0 0 0 0 0 0 0]\n",
            " [1 1 2 0 1 0 1 0 0 0]\n",
            " [0 0 0 2 0 0 0 0 0 0]\n",
            " [0 0 1 0 2 0 0 0 0 0]\n",
            " [0 0 0 0 0 2 0 0 0 0]\n",
            " [1 0 1 0 1 0 3 0 2 0]\n",
            " [0 0 1 0 1 0 0 0 1 0]\n",
            " [1 0 1 0 0 0 1 0 6 0]\n",
            " [0 0 0 0 0 0 0 0 1 1]]\n",
            "Classification Report:\n",
            "                precision    recall  f1-score   support\n",
            "\n",
            " Contentment        0.20      0.33      0.25         3\n",
            "   Curiosity        0.00      0.00      0.00         1\n",
            "  Excitement        0.33      0.33      0.33         6\n",
            "   Gratitude        0.67      1.00      0.80         2\n",
            "       Happy        0.40      0.67      0.50         3\n",
            "     Hopeful        0.67      1.00      0.80         2\n",
            "         Joy        0.60      0.38      0.46         8\n",
            "     Neutral        0.00      0.00      0.00         3\n",
            "   Positive         0.60      0.67      0.63         9\n",
            "         Sad        1.00      0.50      0.67         2\n",
            "\n",
            "     accuracy                           0.49        39\n",
            "    macro avg       0.45      0.49      0.44        39\n",
            " weighted avg       0.48      0.49      0.47        39\n",
            "\n",
            "\n",
            "=== K = 5 ===\n",
            "Accuracy: 0.513\n",
            "Confusion Matrix:\n",
            " [[2 0 0 0 0 0 0 0 1 0]\n",
            " [0 0 1 0 0 0 0 0 0 0]\n",
            " [0 0 3 0 1 0 0 0 2 0]\n",
            " [0 0 0 2 0 0 0 0 0 0]\n",
            " [0 0 1 0 0 0 0 1 1 0]\n",
            " [0 0 0 0 0 2 0 0 0 0]\n",
            " [2 0 0 0 1 0 2 0 3 0]\n",
            " [0 0 0 0 0 0 0 2 1 0]\n",
            " [1 0 2 0 0 0 0 0 6 0]\n",
            " [0 0 0 0 0 0 0 0 1 1]]\n",
            "Classification Report:\n",
            "                precision    recall  f1-score   support\n",
            "\n",
            " Contentment        0.40      0.67      0.50         3\n",
            "   Curiosity        0.00      0.00      0.00         1\n",
            "  Excitement        0.43      0.50      0.46         6\n",
            "   Gratitude        1.00      1.00      1.00         2\n",
            "       Happy        0.00      0.00      0.00         3\n",
            "     Hopeful        1.00      1.00      1.00         2\n",
            "         Joy        1.00      0.25      0.40         8\n",
            "     Neutral        0.67      0.67      0.67         3\n",
            "   Positive         0.40      0.67      0.50         9\n",
            "         Sad        1.00      0.50      0.67         2\n",
            "\n",
            "     accuracy                           0.51        39\n",
            "    macro avg       0.59      0.53      0.52        39\n",
            " weighted avg       0.60      0.51      0.49        39\n",
            "\n",
            "\n",
            "=== K = 7 ===\n",
            "Accuracy: 0.359\n",
            "Confusion Matrix:\n",
            " [[2 0 0 0 0 0 0 0 1 0]\n",
            " [0 0 1 0 0 0 0 0 0 0]\n",
            " [2 0 2 0 0 0 0 0 2 0]\n",
            " [1 0 0 1 0 0 0 0 0 0]\n",
            " [0 0 0 0 0 0 1 0 2 0]\n",
            " [0 0 0 0 0 2 0 0 0 0]\n",
            " [2 0 2 0 0 0 1 0 3 0]\n",
            " [0 0 1 0 1 0 0 0 1 0]\n",
            " [2 0 0 0 0 1 0 0 6 0]\n",
            " [0 0 0 0 0 0 1 0 1 0]]\n",
            "Classification Report:\n",
            "                precision    recall  f1-score   support\n",
            "\n",
            " Contentment        0.22      0.67      0.33         3\n",
            "   Curiosity        0.00      0.00      0.00         1\n",
            "  Excitement        0.33      0.33      0.33         6\n",
            "   Gratitude        1.00      0.50      0.67         2\n",
            "       Happy        0.00      0.00      0.00         3\n",
            "     Hopeful        0.67      1.00      0.80         2\n",
            "         Joy        0.33      0.12      0.18         8\n",
            "     Neutral        0.00      0.00      0.00         3\n",
            "   Positive         0.38      0.67      0.48         9\n",
            "         Sad        0.00      0.00      0.00         2\n",
            "\n",
            "     accuracy                           0.36        39\n",
            "    macro avg       0.29      0.33      0.28        39\n",
            " weighted avg       0.31      0.36      0.30        39\n",
            "\n",
            "\n",
            "=== K = 9 ===\n",
            "Accuracy: 0.436\n",
            "Confusion Matrix:\n",
            " [[2 0 0 0 0 0 0 0 1 0]\n",
            " [0 0 0 0 0 0 1 0 0 0]\n",
            " [2 0 3 0 1 0 0 0 0 0]\n",
            " [1 0 0 1 0 0 0 0 0 0]\n",
            " [0 0 0 0 0 0 1 1 1 0]\n",
            " [0 0 0 0 0 2 0 0 0 0]\n",
            " [1 0 2 0 0 0 2 0 3 0]\n",
            " [0 0 0 0 0 0 0 2 1 0]\n",
            " [1 0 2 0 0 0 1 0 5 0]\n",
            " [0 0 0 0 0 0 1 0 1 0]]\n",
            "Classification Report:\n",
            "                precision    recall  f1-score   support\n",
            "\n",
            " Contentment        0.29      0.67      0.40         3\n",
            "   Curiosity        0.00      0.00      0.00         1\n",
            "  Excitement        0.43      0.50      0.46         6\n",
            "   Gratitude        1.00      0.50      0.67         2\n",
            "       Happy        0.00      0.00      0.00         3\n",
            "     Hopeful        1.00      1.00      1.00         2\n",
            "         Joy        0.33      0.25      0.29         8\n",
            "     Neutral        0.67      0.67      0.67         3\n",
            "   Positive         0.42      0.56      0.48         9\n",
            "         Sad        0.00      0.00      0.00         2\n",
            "\n",
            "     accuracy                           0.44        39\n",
            "    macro avg       0.41      0.41      0.40        39\n",
            " weighted avg       0.41      0.44      0.41        39\n",
            "\n"
          ]
        }
      ]
    },
    {
      "cell_type": "markdown",
      "source": [
        "##Plot Accuracy vs K"
      ],
      "metadata": {
        "id": "xGnzPGDXaV-u"
      }
    },
    {
      "cell_type": "code",
      "source": [
        "k_values = [1, 3, 5, 7, 9]\n",
        "accuracy = [0.564, 0.487, 0.513, 0.359, 0.436]\n",
        "\n",
        "plt.plot(k_values, accuracy, marker='o', label='Accuracy')\n",
        "plt.xlabel(\"K (n_neighbors)\")\n",
        "plt.ylabel(\"Accuracy\")\n",
        "plt.title(\"KNN Accuracy vs K\")\n",
        "plt.grid(True)\n",
        "plt.xticks(k_values)\n",
        "plt.ylim(0, 1)\n",
        "plt.legend()\n",
        "plt.show()"
      ],
      "metadata": {
        "colab": {
          "base_uri": "https://localhost:8080/",
          "height": 472
        },
        "id": "_EeSpcBmaX7T",
        "outputId": "403d76ff-e3b3-42d8-e948-43b4f5c8bee7"
      },
      "execution_count": 21,
      "outputs": [
        {
          "output_type": "display_data",
          "data": {
            "text/plain": [
              "<Figure size 640x480 with 1 Axes>"
            ],
            "image/png": "[encoded data removed]"
          },
          "metadata": {}
        }
      ]
    },
    {
      "cell_type": "markdown",
      "source": [
        "K=1 is optimal for your data right now - despite slight overfitting risk.\n",
        "\n",
        "Larger K values (like 7 or 9) smooth the decision boundary too much for this problem (too many classes, not enough separation in TF-IDF space).\n",
        "\n",
        "The small dataset per class (2–9 examples) makes KNN very sensitive to K."
      ],
      "metadata": {
        "id": "yzgQJMQKa8rA"
      }
    }
  ]
}